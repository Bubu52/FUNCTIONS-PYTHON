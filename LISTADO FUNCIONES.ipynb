{
  "nbformat": 4,
  "nbformat_minor": 0,
  "metadata": {
    "colab": {
      "provenance": []
    },
    "kernelspec": {
      "name": "python3",
      "display_name": "Python 3"
    },
    "language_info": {
      "name": "python"
    }
  },
  "cells": [
    {
      "cell_type": "markdown",
      "source": [
        " **TABLA DE FREQUENCIAS DE UNA VARIABLE CATEGÓRICA:**"
      ],
      "metadata": {
        "id": "H2ga8EE3wmP9"
      }
    },
    {
      "cell_type": "code",
      "source": [
        "def frequencia (d,c,dec=2):\n",
        "  tabla = d[c].value_counts()\n",
        "  tabla = pd.DataFrame(tabla)\n",
        "  tabla[\"%\"] = round(100*tabla[c]/len(d),dec)\n",
        "  return tabla"
      ],
      "metadata": {
        "id": "yVTEBbjVwobF"
      },
      "execution_count": null,
      "outputs": []
    },
    {
      "cell_type": "markdown",
      "source": [
        "**DEVUELVE UN DF DONDE ESTEN LAS FILAS QUE TIENEN VALOR MAXIMO EN UNA COLUMNA**"
      ],
      "metadata": {
        "id": "akB3VR-gI8OF"
      }
    },
    {
      "cell_type": "code",
      "source": [
        "def fun_max (d,c):\n",
        "  maximo = d[c].max()\n",
        "  res = d.loc[d[c]==maximo,:]\n",
        "  return res"
      ],
      "metadata": {
        "id": "zHG7ySczJMAE"
      },
      "execution_count": null,
      "outputs": []
    }
  ]
}