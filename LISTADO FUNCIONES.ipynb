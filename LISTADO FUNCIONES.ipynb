{
  "cells": [
    {
      "cell_type": "markdown",
      "metadata": {
        "id": "H2ga8EE3wmP9"
      },
      "source": [
        " **TABLA DE FREQUENCIAS DE UNA VARIABLE CATEGÓRICA:**"
      ]
    },
    {
      "cell_type": "code",
      "execution_count": null,
      "metadata": {
        "id": "yVTEBbjVwobF"
      },
      "outputs": [],
      "source": [
        "def frequencia (d,c,dec=2):\n",
        "  tabla = d[c].value_counts()\n",
        "  tabla = pd.DataFrame(tabla)\n",
        "  tabla[\"%\"] = round(100*tabla[c]/len(d),dec)\n",
        "  return tabla"
      ]
    },
    {
      "cell_type": "markdown",
      "metadata": {
        "id": "akB3VR-gI8OF"
      },
      "source": [
        "**DEVUELVE UN DF DONDE ESTEN LAS FILAS QUE TIENEN VALOR MAXIMO EN UNA COLUMNA**"
      ]
    },
    {
      "cell_type": "code",
      "execution_count": null,
      "metadata": {
        "id": "zHG7ySczJMAE"
      },
      "outputs": [],
      "source": [
        "def fun_max (d,c):\n",
        "  maximo = d[c].max()\n",
        "  res = d.loc[d[c]==maximo,:]\n",
        "  return res"
      ]
    },
    {
      "cell_type": "markdown",
      "metadata": {},
      "source": [
        "**PORCENTAJE TOTAL DE CUALQUIER COLUMNA Y SUS VALORES**"
      ]
    },
    {
      "cell_type": "code",
      "execution_count": null,
      "metadata": {},
      "outputs": [],
      "source": [
        "def percent (d,c,dec=2):\n",
        "  total = d[c].count()\n",
        "  for i in d[c].unique():\n",
        "    cnt = d[c][d[c] == i].count()\n",
        "    print(f\"{i} Record en porcentage: {round(cnt/total * 100)}%\")"
      ]
    }
  ],
  "metadata": {
    "colab": {
      "provenance": []
    },
    "kernelspec": {
      "display_name": "Python 3",
      "name": "python3"
    },
    "language_info": {
      "name": "python"
    }
  },
  "nbformat": 4,
  "nbformat_minor": 0
}
